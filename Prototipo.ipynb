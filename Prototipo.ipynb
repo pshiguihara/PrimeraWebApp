{
 "cells": [
  {
   "cell_type": "code",
   "execution_count": 2,
   "id": "71bb4a92-38e7-4302-a786-e8efbd48029b",
   "metadata": {},
   "outputs": [],
   "source": [
    "import numpy as np"
   ]
  },
  {
   "cell_type": "code",
   "execution_count": 3,
   "id": "8d5fd06c-79b5-4b63-97d6-cd6637061f8f",
   "metadata": {},
   "outputs": [],
   "source": [
    "import pandas as pd"
   ]
  },
  {
   "cell_type": "markdown",
   "id": "ae108a18-f3a6-4f41-80f6-f181f94b1ac0",
   "metadata": {},
   "source": [
    "# Prototipo: Mi Primera Web App"
   ]
  },
  {
   "cell_type": "code",
   "execution_count": null,
   "id": "c36c7322-f8fb-48c6-85d9-500703c93d84",
   "metadata": {},
   "outputs": [],
   "source": []
  }
 ],
 "metadata": {
  "kernelspec": {
   "display_name": "Proyecto1",
   "language": "python",
   "name": "proyecto1"
  },
  "language_info": {
   "codemirror_mode": {
    "name": "ipython",
    "version": 3
   },
   "file_extension": ".py",
   "mimetype": "text/x-python",
   "name": "python",
   "nbconvert_exporter": "python",
   "pygments_lexer": "ipython3",
   "version": "3.11.6"
  }
 },
 "nbformat": 4,
 "nbformat_minor": 5
}
